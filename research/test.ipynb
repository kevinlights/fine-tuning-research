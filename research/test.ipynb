{
 "cells": [
  {
   "cell_type": "code",
   "execution_count": 1,
   "metadata": {},
   "outputs": [
    {
     "name": "stdout",
     "output_type": "stream",
     "text": [
      "Collecting numpy\n",
      "  Using cached numpy-2.2.4-cp312-cp312-macosx_14_0_arm64.whl.metadata (62 kB)\n",
      "Using cached numpy-2.2.4-cp312-cp312-macosx_14_0_arm64.whl (5.2 MB)\n",
      "Installing collected packages: numpy\n",
      "Successfully installed numpy-2.2.4\n"
     ]
    }
   ],
   "source": [
    "!pip install numpy"
   ]
  },
  {
   "cell_type": "code",
   "execution_count": 1,
   "metadata": {},
   "outputs": [
    {
     "name": "stdout",
     "output_type": "stream",
     "text": [
      "特征值: [3. 2.]\n",
      "特征向量（列向量）:\n",
      " [[ 1.         -0.70710678]\n",
      " [ 0.          0.70710678]]\n",
      "验证 A*v1 = lambda1*v1:\n",
      "A*v1 = [3. 0.]\n",
      "lambda1*v1 = [3. 0.]\n"
     ]
    }
   ],
   "source": [
    "import numpy as np\n",
    "\n",
    "# 定义矩阵\n",
    "A = np.array([[3, 1], [0, 2]])\n",
    "\n",
    "# 计算特征值和特征向量\n",
    "eigenvalues, eigenvectors = np.linalg.eig(A)\n",
    "\n",
    "print(\"特征值:\", eigenvalues)\n",
    "print(\"特征向量（列向量）:\\n\", eigenvectors)\n",
    "\n",
    "# 验证第一个特征向量和特征值\n",
    "v1 = eigenvectors[:, 0]  # 取第一列\n",
    "lambda1 = eigenvalues[0]\n",
    "print(\"验证 A*v1 = lambda1*v1:\")\n",
    "print(\"A*v1 =\", A @ v1)\n",
    "print(\"lambda1*v1 =\", lambda1 * v1)"
   ]
  },
  {
   "cell_type": "code",
   "execution_count": null,
   "metadata": {},
   "outputs": [],
   "source": []
  }
 ],
 "metadata": {
  "kernelspec": {
   "display_name": "py312",
   "language": "python",
   "name": "python3"
  },
  "language_info": {
   "codemirror_mode": {
    "name": "ipython",
    "version": 3
   },
   "file_extension": ".py",
   "mimetype": "text/x-python",
   "name": "python",
   "nbconvert_exporter": "python",
   "pygments_lexer": "ipython3",
   "version": "3.12.9"
  }
 },
 "nbformat": 4,
 "nbformat_minor": 2
}
